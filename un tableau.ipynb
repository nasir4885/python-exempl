{
 "cells": [
  {
   "cell_type": "code",
   "execution_count": 2,
   "id": "4a43adfb-fbf8-4bcf-b6cc-9b89d4f57231",
   "metadata": {},
   "outputs": [],
   "source": [
    "import numpy as np\n",
    "\n",
    "#  dimensions \n",
    "def creer_tableau(n, m):\n",
    "    return np.random.randint(1, 10, size=(n, m))\n",
    "\n",
    "# calcule la somme \n",
    "def somme(T):\n",
    "    return np.sum(T, axis=1)\n",
    "\n",
    "# calcule du produit \n",
    "def produit(T):\n",
    "    return np.prod(T, axis=0)\n",
    "\n",
    "# max\n",
    "def maximum(T):\n",
    "    return np.max(T, axis=1)\n",
    "\n",
    "# min\n",
    "def minimum(T):\n",
    "    return np.min(T, axis=0)\n",
    "\n"
   ]
  },
  {
   "cell_type": "code",
   "execution_count": 3,
   "id": "5e9b8985-07b3-4a36-8313-cda985e898f5",
   "metadata": {},
   "outputs": [
    {
     "name": "stdout",
     "output_type": "stream",
     "text": [
      "Tableau T :\n",
      " [[5 7 1 7 7]\n",
      " [5 7 2 6 2]\n",
      " [9 7 6 9 5]\n",
      " [8 8 2 7 7]]\n",
      "Somme des éléments de chaque ligne : [27 22 36 32]\n",
      "Produit des éléments de chaque colonne : [1800 2744   24 2646  490]\n",
      "Valeur maximale de chaque ligne : [7 7 9 8]\n",
      "Valeur minimale de chaque colonne : [5 7 1 6 2]\n"
     ]
    }
   ],
   "source": [
    " #run\n",
    "n, m = 4, 5  \n",
    "T = creer_tableau(n, m)\n",
    "print(\"Tableau T :\\n\", T)\n",
    "\n",
    "print(\"Somme des éléments de chaque ligne :\", somme(T))\n",
    "print(\"Produit des éléments de chaque colonne :\", produit(T))\n",
    "print(\"Valeur maximale de chaque ligne :\", maximum(T))\n",
    "print(\"Valeur minimale de chaque colonne :\", minimum(T))"
   ]
  },
  {
   "cell_type": "code",
   "execution_count": 4,
   "id": "e6989aab-ad49-45d4-a038-7b92441b80dd",
   "metadata": {},
   "outputs": [
    {
     "name": "stdout",
     "output_type": "stream",
     "text": [
      "Tableau T :\n",
      "[7, 4, 2, 7, 1]\n",
      "[2, 6, 5, 3, 6]\n",
      "[9, 6, 8, 9, 3]\n",
      "[2, 5, 9, 1, 5]\n",
      "Somme des éléments de chaque ligne : [21, 22, 35, 22]\n",
      "Produit des éléments de chaque colonne : [252, 720, 720, 189, 90]\n",
      "Valeur maximale de chaque ligne : [7, 6, 9, 9]\n",
      "Valeur minimale de chaque colonne : [2, 4, 2, 1, 1]\n"
     ]
    }
   ],
   "source": [
    "import random\n",
    "\n",
    "# Fonction pour créer un tableau T de dimensions (n, m) avec des entiers aléatoires entre 1 et 9\n",
    "def creer_tableau(n, m):\n",
    "    T = [[random.randint(1, 9) for _ in range(m)] for _ in range(n)]\n",
    "    return T\n",
    "\n",
    "# Fonction pour calculer la somme des éléments de chaque ligne du tableau T\n",
    "def somme(T):\n",
    "    sommes = []\n",
    "    for ligne in T:\n",
    "        total = 0\n",
    "        for element in ligne:\n",
    "            total += element\n",
    "        sommes.append(total)\n",
    "    return sommes\n",
    "\n",
    "# Fonction pour calculer le produit des éléments de chaque colonne du tableau T\n",
    "def produit(T):\n",
    "    produits = []\n",
    "    nb_lignes = len(T)\n",
    "    nb_colonnes = len(T[0]) if nb_lignes > 0 else 0\n",
    "    for j in range(nb_colonnes):\n",
    "        produit_colonne = 1\n",
    "        for i in range(nb_lignes):\n",
    "            produit_colonne *= T[i][j]\n",
    "        produits.append(produit_colonne)\n",
    "    return produits\n",
    "\n",
    "# Fonction pour trouver la valeur maximale de chaque ligne du tableau T\n",
    "def maximum(T):\n",
    "    max_values = []\n",
    "    for ligne in T:\n",
    "        max_ligne = ligne[0]\n",
    "        for element in ligne:\n",
    "            if element > max_ligne:\n",
    "                max_ligne = element\n",
    "        max_values.append(max_ligne)\n",
    "    return max_values\n",
    "\n",
    "# Fonction pour trouver la valeur minimale de chaque colonne du tableau T\n",
    "def minimum(T):\n",
    "    min_values = []\n",
    "    nb_lignes = len(T)\n",
    "    nb_colonnes = len(T[0]) if nb_lignes > 0 else 0\n",
    "    for j in range(nb_colonnes):\n",
    "        min_colonne = T[0][j]\n",
    "        for i in range(nb_lignes):\n",
    "            if T[i][j] < min_colonne:\n",
    "                min_colonne = T[i][j]\n",
    "        min_values.append(min_colonne)\n",
    "    return min_values\n",
    "\n",
    "# Exécution de l'exemple\n",
    "n, m = 4, 5  # Par exemple, un tableau de 4 lignes et 5 colonnes\n",
    "T = creer_tableau(n, m)\n",
    "print(\"Tableau T :\")\n",
    "for ligne in T:\n",
    "    print(ligne)\n",
    "\n",
    "print(\"Somme des éléments de chaque ligne :\", somme(T))\n",
    "print(\"Produit des éléments de chaque colonne :\", produit(T))\n",
    "print(\"Valeur maximale de chaque ligne :\", maximum(T))\n",
    "print(\"Valeur minimale de chaque colonne :\", minimum(T))\n"
   ]
  },
  {
   "cell_type": "code",
   "execution_count": null,
   "id": "463978df-1306-45b0-8a85-0f0343e7e6b3",
   "metadata": {},
   "outputs": [],
   "source": []
  }
 ],
 "metadata": {
  "kernelspec": {
   "display_name": "Python 3 (ipykernel)",
   "language": "python",
   "name": "python3"
  },
  "language_info": {
   "codemirror_mode": {
    "name": "ipython",
    "version": 3
   },
   "file_extension": ".py",
   "mimetype": "text/x-python",
   "name": "python",
   "nbconvert_exporter": "python",
   "pygments_lexer": "ipython3",
   "version": "3.11.7"
  }
 },
 "nbformat": 4,
 "nbformat_minor": 5
}
